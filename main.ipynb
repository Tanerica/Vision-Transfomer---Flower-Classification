{
 "cells": [
  {
   "cell_type": "markdown",
   "metadata": {},
   "source": [
    "# Image Classification using Vision Transformer"
   ]
  },
  {
   "cell_type": "markdown",
   "metadata": {},
   "source": [
    "# 1.1 Load Dataset"
   ]
  },
  {
   "cell_type": "code",
   "execution_count": 1,
   "metadata": {},
   "outputs": [],
   "source": [
    "import torch\n",
    "import torchvision.transforms as transforms\n",
    "from torch.utils.data import DataLoader, random_split\n",
    "import torch.optim as optim\n",
    "from torchvision.datasets import ImageFolder\n",
    "from torch import nn\n",
    "import math\n",
    "import os"
   ]
  },
  {
   "cell_type": "markdown",
   "metadata": {},
   "source": [
    "You can download dataset here: https://drive.google.com/uc?id=11Buzytn4vIh4x_Oqz8MY29JMMdIqSzj-"
   ]
  },
  {
   "cell_type": "code",
   "execution_count": 13,
   "metadata": {},
   "outputs": [],
   "source": [
    "data_path = './flower_photos/flower_photos'"
   ]
  },
  {
   "cell_type": "code",
   "execution_count": 14,
   "metadata": {},
   "outputs": [],
   "source": [
    "dataset = ImageFolder(root=data_path)"
   ]
  },
  {
   "cell_type": "code",
   "execution_count": 15,
   "metadata": {},
   "outputs": [
    {
     "data": {
      "text/plain": [
       "(3670, 5)"
      ]
     },
     "execution_count": 15,
     "metadata": {},
     "output_type": "execute_result"
    }
   ],
   "source": [
    "num_samples = len(dataset)\n",
    "classes = dataset.classes\n",
    "num_classes = len(classes)\n",
    "num_samples, num_classes"
   ]
  },
  {
   "cell_type": "code",
   "execution_count": 16,
   "metadata": {},
   "outputs": [
    {
     "data": {
      "text/plain": [
       "['daisy', 'dandelion', 'roses', 'sunflowers', 'tulips']"
      ]
     },
     "execution_count": 16,
     "metadata": {},
     "output_type": "execute_result"
    }
   ],
   "source": [
    "classes"
   ]
  },
  {
   "cell_type": "markdown",
   "metadata": {},
   "source": [
    "The number samples of Train, Valid, Test"
   ]
  },
  {
   "cell_type": "code",
   "execution_count": 18,
   "metadata": {},
   "outputs": [
    {
     "data": {
      "text/plain": [
       "(2936, 367, 367)"
      ]
     },
     "execution_count": 18,
     "metadata": {},
     "output_type": "execute_result"
    }
   ],
   "source": [
    "TRAIN_RATIO, VALID_RATIO = 0.8, 0.1\n",
    "\n",
    "n_train_examples = int(num_samples * TRAIN_RATIO)\n",
    "n_valid_examples = int(num_samples * VALID_RATIO)\n",
    "n_test_examples = num_samples - n_train_examples - n_valid_examples\n",
    "n_train_examples, n_test_examples, n_valid_examples"
   ]
  },
  {
   "cell_type": "code",
   "execution_count": 19,
   "metadata": {},
   "outputs": [],
   "source": [
    "train_dataset, valid_dataset, test_dataset = random_split(\n",
    "    dataset,\n",
    "    [n_train_examples, n_valid_examples, n_test_examples]\n",
    ")"
   ]
  },
  {
   "cell_type": "markdown",
   "metadata": {},
   "source": [
    "# 1.2 Preprocessing"
   ]
  },
  {
   "cell_type": "code",
   "execution_count": 20,
   "metadata": {},
   "outputs": [],
   "source": [
    "IMG_SIZE = 224\n",
    "\n",
    "train_transform = transforms.Compose([\n",
    "    transforms.Resize((IMG_SIZE, IMG_SIZE)),\n",
    "    transforms.RandomHorizontalFlip(),\n",
    "    transforms.RandomRotation(0.2),\n",
    "    transforms.ToTensor(),\n",
    "    transforms.Normalize([0.5, 0.5, 0.5], [0.5, 0.5, 0.5])\n",
    "])\n",
    "\n",
    "test_transform = transforms.Compose([\n",
    "    transforms.Resize((IMG_SIZE, IMG_SIZE)),\n",
    "    transforms.ToTensor(),\n",
    "    transforms.Normalize([0.5, 0.5, 0.5], [0.5, 0.5, 0.5])\n",
    "])\n"
   ]
  },
  {
   "cell_type": "code",
   "execution_count": 21,
   "metadata": {},
   "outputs": [],
   "source": [
    "train_dataset.dataset.transform = train_transform\n",
    "valid_dataset.dataset.transform = test_transform\n",
    "test_dataset.dataset.transform = test_transform"
   ]
  },
  {
   "cell_type": "markdown",
   "metadata": {},
   "source": [
    "# 1.3 Dataloader"
   ]
  },
  {
   "cell_type": "code",
   "execution_count": 22,
   "metadata": {},
   "outputs": [],
   "source": [
    "BATCH_SIZE = 4\n",
    "\n",
    "train_loader = DataLoader(\n",
    "    train_dataset,\n",
    "    batch_size=BATCH_SIZE,\n",
    "    shuffle=True,\n",
    ")\n",
    "val_loader = DataLoader(\n",
    "    valid_dataset,\n",
    "    batch_size=BATCH_SIZE,\n",
    ")\n",
    "test_loader = DataLoader(\n",
    "    test_dataset,\n",
    "    batch_size= BATCH_SIZE\n",
    ")"
   ]
  },
  {
   "cell_type": "markdown",
   "metadata": {},
   "source": [
    "# 1.4 Modeling"
   ]
  },
  {
   "cell_type": "code",
   "execution_count": 27,
   "metadata": {},
   "outputs": [],
   "source": [
    "class TransformerEncoder(nn.Module):\n",
    "    def __init__(self, embed_dim, num_heads, ff_dim,dropout=0.1):\n",
    "        super().__init__()\n",
    "        self.attn = nn.MultiheadAttention(\n",
    "            embed_dim=embed_dim,\n",
    "            num_heads=num_heads,\n",
    "            batch_first=True\n",
    "        )\n",
    "        self.ffn = nn.Sequential(\n",
    "            nn.Linear(in_features=embed_dim, out_features=ff_dim,bias=True),\n",
    "            nn.ReLU(),\n",
    "            nn.Linear(in_features=ff_dim, out_features=embed_dim,bias=True)\n",
    "        )\n",
    "        self.layernorm_1 = nn.LayerNorm(normalized_shape=embed_dim, eps=1e-6)\n",
    "        self.layernorm_2 = nn.LayerNorm(normalized_shape=embed_dim, eps=1e-6)\n",
    "        self.dropout_1 = nn.Dropout(p=dropout)\n",
    "        self.dropout_2 = nn.Dropout(p=dropout)\n",
    "    \n",
    "    def forward(self, query, key, value):\n",
    "        attn_output, _ = self.attn(query, key, value)\n",
    "        attn_output = self.dropout_1(attn_output)\n",
    "        out_1 = self.layernorm_1(query+attn_output)\n",
    "        ffn_output = self.ffn(out_1)\n",
    "        ffn_output = self.dropout_2(ffn_output)\n",
    "        out_2 = self.layernorm_2(out_1 + ffn_output)\n",
    "        return out_2\n",
    "\n",
    "class PatchPositionEmbedding(nn.Module):\n",
    "    def __init__(self, image_size=224, embed_dim=512, patch_size=16,device='cpu'):\n",
    "        super().__init__()\n",
    "        self.conv1 = nn.Conv2d(in_channels=3, out_channels=embed_dim, kernel_size=patch_size, stride=patch_size, bias=False)\n",
    "        scale = embed_dim ** -0.5\n",
    "        self.positional_embedding = nn.Parameter(scale * torch.randn((image_size//patch_size) ** 2, embed_dim))\n",
    "        self.device = device\n",
    "\n",
    "    def forward(self, x):\n",
    "        x = self.conv1(x) # shape = [*, width, grid, grid]\n",
    "        x = x.reshape(x.shape[0], x.shape[1], -1) #shape = [*, width, grid**2]\n",
    "        x = x.permute(0,2,1) # shape = [*, grid**2, width]\n",
    "\n",
    "        x = x + self.positional_embedding.to(self.device)\n",
    "        return x\n",
    "\n"
   ]
  },
  {
   "cell_type": "code",
   "execution_count": 34,
   "metadata": {},
   "outputs": [],
   "source": [
    "class VisionTransformerCls(nn.Module):\n",
    "    def __init__(self, image_size,embed_dim, num_heads, ff_dim,\n",
    "                 dropout=0.1, device='cpu', num_classes=10, patch_size=16):\n",
    "        super().__init__()\n",
    "        self.embed_layer = PatchPositionEmbedding(\n",
    "            image_size=image_size,embed_dim=embed_dim,patch_size=patch_size,device=device\n",
    "        )\n",
    "        self.transformer_layer = TransformerEncoder(\n",
    "            embed_dim, num_heads,ff_dim, dropout\n",
    "        )\n",
    "        self.fc1 = nn.Linear(in_features=embed_dim, out_features=20)\n",
    "        self.fc2 = nn.Linear(in_features=20, out_features=num_classes)\n",
    "        self.dropout = nn.Dropout(p=dropout)\n",
    "        self.relu = nn.ReLU()\n",
    "    def forward(self, x):\n",
    "        output = self.embed_layer(x)\n",
    "        output = self.transformer_layer(output,output,output)\n",
    "        output = output[:,0,:]\n",
    "        output = self.dropout(output)\n",
    "        output = self.fc1(output)\n",
    "        output = self.dropout(output)\n",
    "        output = self.fc2(output)\n",
    "        return output"
   ]
  },
  {
   "cell_type": "markdown",
   "metadata": {},
   "source": [
    "# 1.5 Training"
   ]
  },
  {
   "cell_type": "code",
   "execution_count": 35,
   "metadata": {},
   "outputs": [],
   "source": [
    "import time\n",
    "\n",
    "def train_epoch(model, optimizer, criterion, train_dataloader, device, epoch=0, log_interval=50):\n",
    "    model.train()\n",
    "    total_acc, total_count = 0, 0\n",
    "    losses = []\n",
    "    start_time = time.time()\n",
    "\n",
    "    for idx, (inputs, labels) in enumerate(train_dataloader):\n",
    "        inputs = inputs.to(device)\n",
    "        labels = labels.to(device)\n",
    "\n",
    "        optimizer.zero_grad()\n",
    "\n",
    "        predictions = model(inputs)\n",
    "\n",
    "        # compute loss\n",
    "        loss = criterion(predictions, labels)\n",
    "        losses.append(loss.item())\n",
    "\n",
    "        # backward\n",
    "        loss.backward()\n",
    "        optimizer.step()\n",
    "        total_acc += (predictions.argmax(1) == labels).sum().item()\n",
    "        total_count += labels.size(0)\n",
    "        if idx % log_interval == 0 and idx > 0:\n",
    "            elapsed = time.time() - start_time\n",
    "            print(\n",
    "                \"| epoch {:3d} | {:5d}/{:5d} batches \"\n",
    "                \"| accuracy {:8.3f}\".format(\n",
    "                    epoch, idx, len(train_dataloader), total_acc / total_count\n",
    "                )\n",
    "            )\n",
    "            total_acc, total_count = 0, 0\n",
    "            start_time = time.time()\n",
    "\n",
    "    epoch_acc = total_acc / total_count\n",
    "    epoch_loss = sum(losses) / len(losses)\n",
    "    return epoch_acc, epoch_loss"
   ]
  },
  {
   "cell_type": "code",
   "execution_count": 36,
   "metadata": {},
   "outputs": [],
   "source": [
    "def evaluate_epoch(model, criterion, valid_dataloader, device):\n",
    "    model.eval()\n",
    "    total_acc, total_count = 0, 0\n",
    "    losses = []\n",
    "\n",
    "    with torch.no_grad():\n",
    "        for idx, (inputs, labels) in enumerate(valid_dataloader):\n",
    "            inputs = inputs.to(device)\n",
    "            labels = labels.to(device)\n",
    "\n",
    "            predictions = model(inputs)\n",
    "\n",
    "            loss = criterion(predictions, labels)\n",
    "            losses.append(loss.item())\n",
    "\n",
    "            total_acc += (predictions.argmax(1) == labels).sum().item()\n",
    "            total_count += labels.size(0)\n",
    "\n",
    "    epoch_acc = total_acc / total_count\n",
    "    epoch_loss = sum(losses) / len(losses)\n",
    "    return epoch_acc, epoch_loss"
   ]
  },
  {
   "cell_type": "code",
   "execution_count": 37,
   "metadata": {},
   "outputs": [],
   "source": [
    "def train(model, model_name, save_model, optimizer, criterion, train_dataloader, valid_dataloader, num_epochs, device):\n",
    "    train_accs, train_losses = [], []\n",
    "    eval_accs, eval_losses = [], []\n",
    "    best_loss_eval = 100\n",
    "    times = []\n",
    "    for epoch in range(1, num_epochs+1):\n",
    "        epoch_start_time = time.time()\n",
    "        # Training\n",
    "        train_acc, train_loss = train_epoch(model, optimizer, criterion, train_dataloader, device, epoch)\n",
    "        train_accs.append(train_acc)\n",
    "        train_losses.append(train_loss)\n",
    "\n",
    "        # Evaluation\n",
    "        eval_acc, eval_loss = evaluate_epoch(model, criterion, valid_dataloader, device)\n",
    "        eval_accs.append(eval_acc)\n",
    "        eval_losses.append(eval_loss)\n",
    "\n",
    "        # Save best model\n",
    "        if eval_loss < best_loss_eval:\n",
    "            torch.save(model.state_dict(), save_model + f'/{model_name}.pt')\n",
    "\n",
    "        times.append(time.time() - epoch_start_time)\n",
    "        # Print loss, acc end epoch\n",
    "        print(\"-\" * 59)\n",
    "        print(\n",
    "            \"| End of epoch {:3d} | Time: {:5.2f}s | Train Accuracy {:8.3f} | Train Loss {:8.3f} \"\n",
    "            \"| Valid Accuracy {:8.3f} | Valid Loss {:8.3f} \".format(\n",
    "                epoch, time.time() - epoch_start_time, train_acc, train_loss, eval_acc, eval_loss\n",
    "            )\n",
    "        )\n",
    "        print(\"-\" * 59)\n",
    "\n",
    "    # Load best model\n",
    "    model.load_state_dict(torch.load(save_model + f'/{model_name}.pt'))\n",
    "    model.eval()\n",
    "    metrics = {\n",
    "        'train_accuracy': train_accs,\n",
    "        'train_loss': train_losses,\n",
    "        'valid_accuracy': eval_accs,\n",
    "        'valid_loss': eval_losses,\n",
    "        'time': times\n",
    "    }\n",
    "    return model, metrics"
   ]
  },
  {
   "cell_type": "code",
   "execution_count": 38,
   "metadata": {},
   "outputs": [
    {
     "name": "stdout",
     "output_type": "stream",
     "text": [
      "| epoch   1 |    50/  734 batches | accuracy    0.275\n",
      "| epoch   1 |   100/  734 batches | accuracy    0.355\n",
      "| epoch   1 |   150/  734 batches | accuracy    0.345\n",
      "| epoch   1 |   200/  734 batches | accuracy    0.335\n",
      "| epoch   1 |   250/  734 batches | accuracy    0.310\n",
      "| epoch   1 |   300/  734 batches | accuracy    0.370\n",
      "| epoch   1 |   350/  734 batches | accuracy    0.415\n",
      "| epoch   1 |   400/  734 batches | accuracy    0.420\n",
      "| epoch   1 |   450/  734 batches | accuracy    0.345\n",
      "| epoch   1 |   500/  734 batches | accuracy    0.400\n",
      "| epoch   1 |   550/  734 batches | accuracy    0.395\n",
      "| epoch   1 |   600/  734 batches | accuracy    0.395\n",
      "| epoch   1 |   650/  734 batches | accuracy    0.425\n",
      "| epoch   1 |   700/  734 batches | accuracy    0.420\n",
      "-----------------------------------------------------------\n",
      "| End of epoch   1 | Time: 108.82s | Train Accuracy    0.477 | Train Loss    1.398 | Valid Accuracy    0.485 | Valid Loss    1.265 \n",
      "-----------------------------------------------------------\n",
      "| epoch   2 |    50/  734 batches | accuracy    0.451\n",
      "| epoch   2 |   100/  734 batches | accuracy    0.480\n",
      "| epoch   2 |   150/  734 batches | accuracy    0.435\n",
      "| epoch   2 |   200/  734 batches | accuracy    0.405\n",
      "| epoch   2 |   250/  734 batches | accuracy    0.455\n",
      "| epoch   2 |   300/  734 batches | accuracy    0.435\n",
      "| epoch   2 |   350/  734 batches | accuracy    0.480\n",
      "| epoch   2 |   400/  734 batches | accuracy    0.535\n",
      "| epoch   2 |   450/  734 batches | accuracy    0.475\n",
      "| epoch   2 |   500/  734 batches | accuracy    0.435\n",
      "| epoch   2 |   550/  734 batches | accuracy    0.480\n",
      "| epoch   2 |   600/  734 batches | accuracy    0.390\n",
      "| epoch   2 |   650/  734 batches | accuracy    0.470\n",
      "| epoch   2 |   700/  734 batches | accuracy    0.480\n",
      "-----------------------------------------------------------\n",
      "| End of epoch   2 | Time: 76.72s | Train Accuracy    0.462 | Train Loss    1.248 | Valid Accuracy    0.531 | Valid Loss    1.181 \n",
      "-----------------------------------------------------------\n",
      "| epoch   3 |    50/  734 batches | accuracy    0.475\n",
      "| epoch   3 |   100/  734 batches | accuracy    0.505\n",
      "| epoch   3 |   150/  734 batches | accuracy    0.470\n",
      "| epoch   3 |   200/  734 batches | accuracy    0.520\n",
      "| epoch   3 |   250/  734 batches | accuracy    0.470\n",
      "| epoch   3 |   300/  734 batches | accuracy    0.530\n",
      "| epoch   3 |   350/  734 batches | accuracy    0.525\n",
      "| epoch   3 |   400/  734 batches | accuracy    0.490\n",
      "| epoch   3 |   450/  734 batches | accuracy    0.490\n",
      "| epoch   3 |   500/  734 batches | accuracy    0.485\n",
      "| epoch   3 |   550/  734 batches | accuracy    0.590\n",
      "| epoch   3 |   600/  734 batches | accuracy    0.575\n",
      "| epoch   3 |   650/  734 batches | accuracy    0.580\n",
      "| epoch   3 |   700/  734 batches | accuracy    0.490\n",
      "-----------------------------------------------------------\n",
      "| End of epoch   3 | Time: 76.82s | Train Accuracy    0.455 | Train Loss    1.162 | Valid Accuracy    0.553 | Valid Loss    1.115 \n",
      "-----------------------------------------------------------\n",
      "| epoch   4 |    50/  734 batches | accuracy    0.515\n",
      "| epoch   4 |   100/  734 batches | accuracy    0.540\n",
      "| epoch   4 |   150/  734 batches | accuracy    0.470\n",
      "| epoch   4 |   200/  734 batches | accuracy    0.560\n",
      "| epoch   4 |   250/  734 batches | accuracy    0.530\n",
      "| epoch   4 |   300/  734 batches | accuracy    0.495\n",
      "| epoch   4 |   350/  734 batches | accuracy    0.550\n",
      "| epoch   4 |   400/  734 batches | accuracy    0.580\n",
      "| epoch   4 |   450/  734 batches | accuracy    0.535\n",
      "| epoch   4 |   500/  734 batches | accuracy    0.550\n",
      "| epoch   4 |   550/  734 batches | accuracy    0.550\n",
      "| epoch   4 |   600/  734 batches | accuracy    0.565\n",
      "| epoch   4 |   650/  734 batches | accuracy    0.590\n",
      "| epoch   4 |   700/  734 batches | accuracy    0.495\n",
      "-----------------------------------------------------------\n",
      "| End of epoch   4 | Time: 72.76s | Train Accuracy    0.553 | Train Loss    1.107 | Valid Accuracy    0.553 | Valid Loss    1.074 \n",
      "-----------------------------------------------------------\n",
      "| epoch   5 |    50/  734 batches | accuracy    0.549\n",
      "| epoch   5 |   100/  734 batches | accuracy    0.615\n",
      "| epoch   5 |   150/  734 batches | accuracy    0.595\n",
      "| epoch   5 |   200/  734 batches | accuracy    0.570\n",
      "| epoch   5 |   250/  734 batches | accuracy    0.515\n",
      "| epoch   5 |   300/  734 batches | accuracy    0.565\n",
      "| epoch   5 |   350/  734 batches | accuracy    0.600\n",
      "| epoch   5 |   400/  734 batches | accuracy    0.515\n",
      "| epoch   5 |   450/  734 batches | accuracy    0.570\n",
      "| epoch   5 |   500/  734 batches | accuracy    0.550\n",
      "| epoch   5 |   550/  734 batches | accuracy    0.530\n",
      "| epoch   5 |   600/  734 batches | accuracy    0.540\n",
      "| epoch   5 |   650/  734 batches | accuracy    0.540\n",
      "| epoch   5 |   700/  734 batches | accuracy    0.580\n",
      "-----------------------------------------------------------\n",
      "| End of epoch   5 | Time: 73.03s | Train Accuracy    0.614 | Train Loss    1.061 | Valid Accuracy    0.561 | Valid Loss    1.045 \n",
      "-----------------------------------------------------------\n",
      "| epoch   6 |    50/  734 batches | accuracy    0.583\n",
      "| epoch   6 |   100/  734 batches | accuracy    0.610\n",
      "| epoch   6 |   150/  734 batches | accuracy    0.580\n",
      "| epoch   6 |   200/  734 batches | accuracy    0.625\n",
      "| epoch   6 |   250/  734 batches | accuracy    0.605\n",
      "| epoch   6 |   300/  734 batches | accuracy    0.555\n",
      "| epoch   6 |   350/  734 batches | accuracy    0.610\n",
      "| epoch   6 |   400/  734 batches | accuracy    0.605\n",
      "| epoch   6 |   450/  734 batches | accuracy    0.585\n",
      "| epoch   6 |   500/  734 batches | accuracy    0.585\n",
      "| epoch   6 |   550/  734 batches | accuracy    0.645\n",
      "| epoch   6 |   600/  734 batches | accuracy    0.615\n",
      "| epoch   6 |   650/  734 batches | accuracy    0.535\n",
      "| epoch   6 |   700/  734 batches | accuracy    0.670\n",
      "-----------------------------------------------------------\n",
      "| End of epoch   6 | Time: 75.32s | Train Accuracy    0.606 | Train Loss    1.007 | Valid Accuracy    0.583 | Valid Loss    1.007 \n",
      "-----------------------------------------------------------\n",
      "| epoch   7 |    50/  734 batches | accuracy    0.637\n",
      "| epoch   7 |   100/  734 batches | accuracy    0.535\n",
      "| epoch   7 |   150/  734 batches | accuracy    0.600\n",
      "| epoch   7 |   200/  734 batches | accuracy    0.650\n",
      "| epoch   7 |   250/  734 batches | accuracy    0.620\n",
      "| epoch   7 |   300/  734 batches | accuracy    0.665\n",
      "| epoch   7 |   350/  734 batches | accuracy    0.680\n",
      "| epoch   7 |   400/  734 batches | accuracy    0.630\n",
      "| epoch   7 |   450/  734 batches | accuracy    0.650\n",
      "| epoch   7 |   500/  734 batches | accuracy    0.635\n",
      "| epoch   7 |   550/  734 batches | accuracy    0.615\n",
      "| epoch   7 |   600/  734 batches | accuracy    0.555\n",
      "| epoch   7 |   650/  734 batches | accuracy    0.615\n",
      "| epoch   7 |   700/  734 batches | accuracy    0.670\n",
      "-----------------------------------------------------------\n",
      "| End of epoch   7 | Time: 73.89s | Train Accuracy    0.606 | Train Loss    0.957 | Valid Accuracy    0.605 | Valid Loss    1.018 \n",
      "-----------------------------------------------------------\n",
      "| epoch   8 |    50/  734 batches | accuracy    0.691\n",
      "| epoch   8 |   100/  734 batches | accuracy    0.615\n",
      "| epoch   8 |   150/  734 batches | accuracy    0.650\n",
      "| epoch   8 |   200/  734 batches | accuracy    0.625\n",
      "| epoch   8 |   250/  734 batches | accuracy    0.615\n",
      "| epoch   8 |   300/  734 batches | accuracy    0.600\n",
      "| epoch   8 |   350/  734 batches | accuracy    0.615\n",
      "| epoch   8 |   400/  734 batches | accuracy    0.645\n",
      "| epoch   8 |   450/  734 batches | accuracy    0.590\n",
      "| epoch   8 |   500/  734 batches | accuracy    0.680\n",
      "| epoch   8 |   550/  734 batches | accuracy    0.650\n",
      "| epoch   8 |   600/  734 batches | accuracy    0.650\n",
      "| epoch   8 |   650/  734 batches | accuracy    0.710\n",
      "| epoch   8 |   700/  734 batches | accuracy    0.705\n",
      "-----------------------------------------------------------\n",
      "| End of epoch   8 | Time: 74.32s | Train Accuracy    0.644 | Train Loss    0.909 | Valid Accuracy    0.610 | Valid Loss    0.974 \n",
      "-----------------------------------------------------------\n",
      "| epoch   9 |    50/  734 batches | accuracy    0.647\n",
      "| epoch   9 |   100/  734 batches | accuracy    0.705\n",
      "| epoch   9 |   150/  734 batches | accuracy    0.715\n",
      "| epoch   9 |   200/  734 batches | accuracy    0.665\n",
      "| epoch   9 |   250/  734 batches | accuracy    0.645\n",
      "| epoch   9 |   300/  734 batches | accuracy    0.650\n",
      "| epoch   9 |   350/  734 batches | accuracy    0.610\n",
      "| epoch   9 |   400/  734 batches | accuracy    0.675\n",
      "| epoch   9 |   450/  734 batches | accuracy    0.635\n",
      "| epoch   9 |   500/  734 batches | accuracy    0.645\n",
      "| epoch   9 |   550/  734 batches | accuracy    0.650\n",
      "| epoch   9 |   600/  734 batches | accuracy    0.635\n",
      "| epoch   9 |   650/  734 batches | accuracy    0.690\n",
      "| epoch   9 |   700/  734 batches | accuracy    0.660\n",
      "-----------------------------------------------------------\n",
      "| End of epoch   9 | Time: 73.72s | Train Accuracy    0.598 | Train Loss    0.885 | Valid Accuracy    0.613 | Valid Loss    0.960 \n",
      "-----------------------------------------------------------\n",
      "| epoch  10 |    50/  734 batches | accuracy    0.686\n",
      "| epoch  10 |   100/  734 batches | accuracy    0.660\n",
      "| epoch  10 |   150/  734 batches | accuracy    0.615\n",
      "| epoch  10 |   200/  734 batches | accuracy    0.695\n",
      "| epoch  10 |   250/  734 batches | accuracy    0.710\n",
      "| epoch  10 |   300/  734 batches | accuracy    0.630\n",
      "| epoch  10 |   350/  734 batches | accuracy    0.635\n",
      "| epoch  10 |   400/  734 batches | accuracy    0.685\n",
      "| epoch  10 |   450/  734 batches | accuracy    0.635\n",
      "| epoch  10 |   500/  734 batches | accuracy    0.680\n",
      "| epoch  10 |   550/  734 batches | accuracy    0.685\n",
      "| epoch  10 |   600/  734 batches | accuracy    0.655\n",
      "| epoch  10 |   650/  734 batches | accuracy    0.740\n",
      "| epoch  10 |   700/  734 batches | accuracy    0.620\n",
      "-----------------------------------------------------------\n",
      "| End of epoch  10 | Time: 73.86s | Train Accuracy    0.606 | Train Loss    0.855 | Valid Accuracy    0.629 | Valid Loss    0.943 \n",
      "-----------------------------------------------------------\n"
     ]
    }
   ],
   "source": [
    "image_size=224\n",
    "embed_dim = 512\n",
    "num_heads = 4\n",
    "ff_dim =128\n",
    "dropout = 0.1\n",
    "\n",
    "device = torch.device('cuda' if torch.cuda.is_available() else 'cpu')\n",
    "\n",
    "model = VisionTransformerCls(\n",
    "    image_size=224, embed_dim=512, num_heads=num_heads, ff_dim=ff_dim, dropout=dropout, num_classes=num_classes,device=device\n",
    ")\n",
    "model.to(device)\n",
    "criterion = torch.nn.CrossEntropyLoss()\n",
    "optimizer = optim.Adam(model.parameters(),lr=0.00005)\n",
    "\n",
    "num_epochs = 10\n",
    "save_model = './vit_flowers'\n",
    "os.makedirs(save_model, exist_ok=True)\n",
    "model_name = 'vit_flowers'\n",
    "\n",
    "model, metrics = train(\n",
    "    model, model_name, save_model, optimizer, criterion, train_loader, val_loader, num_epochs, device\n",
    ")"
   ]
  },
  {
   "cell_type": "code",
   "execution_count": null,
   "metadata": {},
   "outputs": [],
   "source": []
  }
 ],
 "metadata": {
  "kernelspec": {
   "display_name": "Python 3",
   "language": "python",
   "name": "python3"
  },
  "language_info": {
   "codemirror_mode": {
    "name": "ipython",
    "version": 3
   },
   "file_extension": ".py",
   "mimetype": "text/x-python",
   "name": "python",
   "nbconvert_exporter": "python",
   "pygments_lexer": "ipython3",
   "version": "3.11.3"
  }
 },
 "nbformat": 4,
 "nbformat_minor": 2
}
